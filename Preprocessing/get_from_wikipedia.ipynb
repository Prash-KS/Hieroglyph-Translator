{
 "cells": [
  {
   "cell_type": "code",
   "execution_count": 3,
   "id": "89c0eff4",
   "metadata": {},
   "outputs": [
    {
     "name": "stdout",
     "output_type": "stream",
     "text": [
      "CSV file 'hieroglyphs.csv' created successfully.\n"
     ]
    }
   ],
   "source": [
    "from bs4 import BeautifulSoup\n",
    "import csv\n",
    "import requests\n",
    "\n",
    "# url of the Wikipedia page\n",
    "url = 'https://en.wikipedia.org/wiki/List_of_Egyptian_hieroglyphs'\n",
    "\n",
    "# send a request to get the page content\n",
    "response = requests.get(url)\n",
    "soup = BeautifulSoup(response.text, 'html.parser')\n",
    "\n",
    "# find the table with hieroglyphs\n",
    "table = soup.find('table', {'class': 'wikitable'})\n",
    "\n",
    "# open a csv file for writing\n",
    "with open('hieroglyphs.csv', 'w', newline='', encoding='utf-8') as csvfile:\n",
    "    csvwriter = csv.writer(csvfile)\n",
    "    # Write header\n",
    "    csvwriter.writerow(['Gardiner Code', 'Description'])\n",
    "\n",
    "    # iterate through each row of the table\n",
    "    for row in table.find_all('tr')[2:]:\n",
    "        cells = row.find_all('td')\n",
    "\n",
    "        if len(cells) < 3:\n",
    "            continue \n",
    "\n",
    "        # extract gardiner code\n",
    "        gardiner_code = cells[1].text.strip().split()[0] if cells[1].text.strip() else 'N/A'\n",
    "        # extract description\n",
    "        description = cells[2].text.strip() if len(cells) > 2 else 'N/A'\n",
    "\n",
    "        # write row to csv\n",
    "        csvwriter.writerow([gardiner_code, description])\n",
    "\n",
    "print(\"CSV file 'hieroglyphs.csv' created successfully.\")\n"
   ]
  },
  {
   "cell_type": "code",
   "execution_count": null,
   "id": "a341d7f6",
   "metadata": {},
   "outputs": [],
   "source": []
  }
 ],
 "metadata": {
  "kernelspec": {
   "display_name": "Python 3 (ipykernel)",
   "language": "python",
   "name": "python3"
  },
  "language_info": {
   "codemirror_mode": {
    "name": "ipython",
    "version": 3
   },
   "file_extension": ".py",
   "mimetype": "text/x-python",
   "name": "python",
   "nbconvert_exporter": "python",
   "pygments_lexer": "ipython3",
   "version": "3.11.5"
  }
 },
 "nbformat": 4,
 "nbformat_minor": 5
}
