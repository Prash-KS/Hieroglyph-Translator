{
 "cells": [
  {
   "cell_type": "code",
   "execution_count": 6,
   "id": "4a6c0dc6",
   "metadata": {},
   "outputs": [
    {
     "name": "stdout",
     "output_type": "stream",
     "text": [
      "Images have been organized, resized, and padded. Single-image codes were excluded.\n"
     ]
    }
   ],
   "source": [
    "import os\n",
    "import shutil\n",
    "from collections import defaultdict\n",
    "import cv2\n",
    "import numpy as np\n",
    "\n",
    "# Function to resize and pad the image while maintaining aspect ratio\n",
    "def resize_with_padding(image, target_size, padding_value=0):\n",
    "    old_h, old_w = image.shape[:2]\n",
    "    new_w, new_h = target_size\n",
    "    \n",
    "    # Calculate the ratio of new to old dimensions\n",
    "    scale = min(new_w / old_w, new_h / old_h)\n",
    "    new_w = int(old_w * scale)\n",
    "    new_h = int(old_h * scale)\n",
    "    \n",
    "    # Resize the image to the new dimensions\n",
    "    resized_image = cv2.resize(image, (new_w, new_h))\n",
    "    \n",
    "    # Create a new image of the target size with padding\n",
    "    padded_image = np.full((target_size[1], target_size[0]), padding_value, dtype=np.uint8)\n",
    "    \n",
    "    # Center the resized image in the new image\n",
    "    x_offset = (target_size[0] - new_w) // 2\n",
    "    y_offset = (target_size[1] - new_h) // 2\n",
    "    padded_image[y_offset:y_offset + new_h, x_offset:x_offset + new_w] = resized_image\n",
    "    \n",
    "    return padded_image\n",
    "\n",
    "# Define the main folder path\n",
    "main_folder = \".\"\n",
    "\n",
    "# Step 1: Group images by their codes\n",
    "image_groups = defaultdict(list)\n",
    "\n",
    "for subfolder in os.listdir(main_folder):\n",
    "    subfolder_path = os.path.join(main_folder, subfolder)\n",
    "    if os.path.isdir(subfolder_path):  # Check if it's a folder\n",
    "        for file_name in os.listdir(subfolder_path):\n",
    "            if file_name.endswith('.png'):  # Check if the file is a PNG image\n",
    "                image_code = file_name.split('_')[1].split('.')[0]  # Extract image code\n",
    "                image_path = os.path.join(subfolder_path, file_name)\n",
    "                image_groups[image_code].append(image_path)\n",
    "\n",
    "# Step 2: Process image groups with more than 1 image\n",
    "for image_code, image_paths in image_groups.items():\n",
    "    if len(image_paths) > 1:  # Only process codes with more than 1 image\n",
    "        # Create the destination folder path\n",
    "        destination_folder = os.path.join(main_folder, image_code)\n",
    "        if not os.path.exists(destination_folder):\n",
    "            os.makedirs(destination_folder)\n",
    "        \n",
    "        # Move and resize/pad each image\n",
    "        for image_path in image_paths:\n",
    "            destination_path = os.path.join(destination_folder, os.path.basename(image_path))\n",
    "            shutil.move(image_path, destination_path)\n",
    "            \n",
    "            # Open the image and pad it to 224x224 pixels\n",
    "            image = cv2.imread(destination_path, cv2.IMREAD_GRAYSCALE)\n",
    "            padded_image = resize_with_padding(image, target_size=(224, 224), padding_value=0)\n",
    "            \n",
    "            # Save the padded image\n",
    "            cv2.imwrite(destination_path, padded_image)\n",
    "\n",
    "print(\"Images have been organized, resized, and padded. Single-image codes were excluded.\")\n"
   ]
  },
  {
   "cell_type": "code",
   "execution_count": null,
   "id": "7c0ca041",
   "metadata": {},
   "outputs": [],
   "source": []
  }
 ],
 "metadata": {
  "kernelspec": {
   "display_name": "Python 3 (ipykernel)",
   "language": "python",
   "name": "python3"
  },
  "language_info": {
   "codemirror_mode": {
    "name": "ipython",
    "version": 3
   },
   "file_extension": ".py",
   "mimetype": "text/x-python",
   "name": "python",
   "nbconvert_exporter": "python",
   "pygments_lexer": "ipython3",
   "version": "3.11.5"
  }
 },
 "nbformat": 4,
 "nbformat_minor": 5
}
